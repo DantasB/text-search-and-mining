{
  "cells": [
    {
      "cell_type": "markdown",
      "source": [
        "# Introduction\n",
        "\n",
        "Airbnb is an online marketplace that connects people who want to rent out their homes with people who are looking for accomodations in specific locales.\n",
        "\n",
        "According Airbnb in 2021, it has in excess of 5.6 million listing, covering more than 100,00 cities and town and 220-plus countries worldwide.\n",
        "\n",
        "## About the dataset\n",
        "\n",
        "The dataset is a kaggle dataset that contains a bunch of airbnb reviews, we have the columns: listing_id, id, date, reviews_id, reviewer_name and the comments. \n",
        "\n",
        "The only information used is the comment. For each comment, we've separated it using the dots in the review text and exploded a single review in multiple comments.\n",
        "\n",
        "## Main Objective\n",
        "\n",
        "The main objective is to get every comment and check which room are the most importants for a reviewer, so we built a wordcloud for each type of comment (negative or positive) and them verified every rooms that contains in the reviews.\n",
        "\n",
        "So, the people who wants to announce in this website can pay attention in these rooms and choose improve it or not.\n",
        "\n",
        "## Implementation Details\n",
        "\n",
        "For treating the review messages we first lematize and tokenize the text utilizing functions from the nltk library. Than we stemmerize the words with Port Stemmer and after this we remove the stop words from this messages also with nltk.\n",
        "\n",
        "After treating the reviews we make a sentiment analysis with the Text Blob library. The function from this library that we use gives a score from 0 to 1 for how positive or negative is a given sentence. So having this scores we separate the review messages in 5 groups and remove the group with a score close to 0.5, the neutral ones.\n",
        "\n",
        "Having done this we simply have to generate the positive word cloud with the positve group of reviews and also the negative one. For this task we are using the wordcloud library."
      ],
      "metadata": {
        "id": "VpYVvZyNucbr"
      }
    },
    {
      "cell_type": "markdown",
      "metadata": {
        "id": "RBDDtQQAAMfV"
      },
      "source": [
        "# Install Dependencies"
      ]
    },
    {
      "cell_type": "markdown",
      "metadata": {
        "id": "NjE8osOIje1r"
      },
      "source": [
        "## Pip libraries"
      ]
    },
    {
      "cell_type": "code",
      "execution_count": null,
      "metadata": {
        "colab": {
          "base_uri": "https://localhost:8080/"
        },
        "id": "9bStYgsUAOhF",
        "outputId": "f941d9a0-5e88-471f-c38e-3c94c864218d"
      },
      "outputs": [
        {
          "output_type": "stream",
          "name": "stdout",
          "text": [
            "Looking in indexes: https://pypi.org/simple, https://us-python.pkg.dev/colab-wheels/public/simple/\n",
            "Requirement already satisfied: langdetect in /usr/local/lib/python3.7/dist-packages (1.0.9)\n",
            "Requirement already satisfied: six in /usr/local/lib/python3.7/dist-packages (from langdetect) (1.15.0)\n"
          ]
        }
      ],
      "source": [
        "!pip install langdetect\n",
        "!pip install -q kaggle"
      ]
    },
    {
      "cell_type": "markdown",
      "metadata": {
        "id": "2NWFhx_X5m_g"
      },
      "source": [
        "# Imports"
      ]
    },
    {
      "cell_type": "markdown",
      "metadata": {
        "id": "QGNfHZegj0aI"
      },
      "source": [
        "## Libraries"
      ]
    },
    {
      "cell_type": "code",
      "execution_count": null,
      "metadata": {
        "id": "A6kiC9Rs46qo"
      },
      "outputs": [],
      "source": [
        "import pandas as pd\n",
        "import re\n",
        "import numpy as np\n",
        "from tqdm import tqdm\n",
        "from langdetect import detect, LangDetectException\n",
        "import nltk\n",
        "from nltk.stem import PorterStemmer, WordNetLemmatizer\n",
        "from textblob import TextBlob\n",
        "from wordcloud import WordCloud, STOPWORDS\n",
        "from typing import List\n",
        "import matplotlib.pyplot as plt\n",
        "from collections import Counter\n",
        "from gensim.utils import simple_preprocess\n",
        "from nltk.corpus import wordnet as wn\n",
        "from collections import OrderedDict"
      ]
    },
    {
      "cell_type": "markdown",
      "metadata": {
        "id": "x48ilaIyjwQH"
      },
      "source": [
        "## Initialize tqdm"
      ]
    },
    {
      "cell_type": "code",
      "execution_count": null,
      "metadata": {
        "id": "atNDPhBojwCl"
      },
      "outputs": [],
      "source": [
        "tqdm.pandas()"
      ]
    },
    {
      "cell_type": "markdown",
      "metadata": {
        "id": "6wLVKpv0jbHt"
      },
      "source": [
        "## NLTK Imports"
      ]
    },
    {
      "cell_type": "code",
      "execution_count": null,
      "metadata": {
        "colab": {
          "base_uri": "https://localhost:8080/"
        },
        "id": "lln1FoO5jdQ9",
        "outputId": "48877250-b23f-4d33-b524-63adf257c2f5"
      },
      "outputs": [
        {
          "output_type": "stream",
          "name": "stderr",
          "text": [
            "[nltk_data] Downloading package stopwords to /root/nltk_data...\n",
            "[nltk_data]   Package stopwords is already up-to-date!\n",
            "[nltk_data] Downloading package punkt to /root/nltk_data...\n",
            "[nltk_data]   Package punkt is already up-to-date!\n",
            "[nltk_data] Downloading package wordnet to /root/nltk_data...\n",
            "[nltk_data]   Package wordnet is already up-to-date!\n",
            "[nltk_data] Downloading package averaged_perceptron_tagger to\n",
            "[nltk_data]     /root/nltk_data...\n",
            "[nltk_data]   Package averaged_perceptron_tagger is already up-to-\n",
            "[nltk_data]       date!\n",
            "[nltk_data] Downloading package omw-1.4 to /root/nltk_data...\n",
            "[nltk_data]   Package omw-1.4 is already up-to-date!\n"
          ]
        },
        {
          "output_type": "execute_result",
          "data": {
            "text/plain": [
              "True"
            ]
          },
          "metadata": {},
          "execution_count": 25
        }
      ],
      "source": [
        "nltk.download(\"stopwords\")\n",
        "nltk.download(\"punkt\")\n",
        "nltk.download('wordnet')\n",
        "nltk.download('averaged_perceptron_tagger')\n",
        "nltk.download('omw-1.4')"
      ]
    },
    {
      "cell_type": "markdown",
      "metadata": {
        "id": "bcc9Zn7yufb7"
      },
      "source": [
        "## WordCloud Stop Words"
      ]
    },
    {
      "cell_type": "code",
      "execution_count": null,
      "metadata": {
        "id": "l3sHJxdouhqO"
      },
      "outputs": [],
      "source": [
        "stopwords = set(STOPWORDS)"
      ]
    },
    {
      "cell_type": "markdown",
      "metadata": {
        "id": "RLSc7xmE22q4"
      },
      "source": [
        "## Download Kaggle Dataset"
      ]
    },
    {
      "cell_type": "code",
      "execution_count": null,
      "metadata": {
        "colab": {
          "base_uri": "https://localhost:8080/"
        },
        "id": "yOCq_I1H1NAO",
        "outputId": "f36f9ac8-51d0-40f7-b222-c0f15da9095c"
      },
      "outputs": [
        {
          "output_type": "stream",
          "name": "stdout",
          "text": [
            "--2022-06-18 17:31:57--  https://cdn.discordapp.com/attachments/539836343094870016/982071536087351416/kaggle_1.json\n",
            "Resolving cdn.discordapp.com (cdn.discordapp.com)... 162.159.133.233, 162.159.130.233, 162.159.129.233, ...\n",
            "Connecting to cdn.discordapp.com (cdn.discordapp.com)|162.159.133.233|:443... connected.\n",
            "HTTP request sent, awaiting response... 200 OK\n",
            "Length: 63 [application/json]\n",
            "Saving to: ‘kaggle.json’\n",
            "\n",
            "\rkaggle.json           0%[                    ]       0  --.-KB/s               \rkaggle.json         100%[===================>]      63  --.-KB/s    in 0s      \n",
            "\n",
            "2022-06-18 17:31:57 (11.7 MB/s) - ‘kaggle.json’ saved [63/63]\n",
            "\n",
            "mkdir: cannot create directory ‘/root/.kaggle’: File exists\n",
            "airbnb-ratings-dataset.zip: Skipping, found more recently modified local copy (use --force to force download)\n",
            "Archive:  airbnb-ratings-dataset.zip\n",
            "replace LA_Listings.csv? [y]es, [n]o, [A]ll, [N]one, [r]ename: N\n"
          ]
        }
      ],
      "source": [
        "!wget -O kaggle.json https://cdn.discordapp.com/attachments/539836343094870016/982071536087351416/kaggle_1.json\n",
        "!mkdir ~/.kaggle\n",
        "!cp kaggle.json ~/.kaggle/\n",
        "!chmod 600 ~/.kaggle/kaggle.json\n",
        "!kaggle datasets download -d samyukthamurali/airbnb-ratings-dataset\n",
        "!unzip airbnb-ratings-dataset.zip"
      ]
    },
    {
      "cell_type": "markdown",
      "metadata": {
        "id": "6AAlvIoAflnk"
      },
      "source": [
        "# Functions"
      ]
    },
    {
      "cell_type": "markdown",
      "metadata": {
        "id": "CRQe8JM6fo2b"
      },
      "source": [
        "## safe_detect_language(text: str)"
      ]
    },
    {
      "cell_type": "code",
      "execution_count": null,
      "metadata": {
        "id": "ibwscQPYfneK"
      },
      "outputs": [],
      "source": [
        "def safe_detect_language(text: str) -> str:\n",
        "  \"\"\" Check the language detection \n",
        "\n",
        "  Args:\n",
        "      text (str): Text to treat\n",
        "      \n",
        "  Returns:\n",
        "      str: The language of the text\n",
        "  \"\"\"\n",
        "  try:\n",
        "    return detect(text)\n",
        "  except LangDetectException: #catches non string values\n",
        "    return 'err'"
      ]
    },
    {
      "cell_type": "markdown",
      "metadata": {
        "id": "gBxbHQ2Rgtu-"
      },
      "source": [
        "## replace_multiple_spaces_by_one(text: str)"
      ]
    },
    {
      "cell_type": "code",
      "execution_count": null,
      "metadata": {
        "id": "Bp_FBEt6gteG"
      },
      "outputs": [],
      "source": [
        "def replace_multiple_spaces_by_one(text: str) -> str:\n",
        "  \"\"\"Replace multiple space by one regex\n",
        "\n",
        "  Args:\n",
        "      text (str): Text to replace multiple space by one regex\n",
        "      \n",
        "  Returns:\n",
        "      str: Text without multiple space\n",
        "  \"\"\"\n",
        "  text = re.sub(r\"\\s+\", \" \", text)\n",
        "  return text  "
      ]
    },
    {
      "cell_type": "markdown",
      "metadata": {
        "id": "0t47ryEjk56T"
      },
      "source": [
        "## tokenize_text(text: str)"
      ]
    },
    {
      "cell_type": "code",
      "execution_count": null,
      "metadata": {
        "id": "HlIl744Ek5q8"
      },
      "outputs": [],
      "source": [
        "def tokenize_text(text: str) -> str:\n",
        "  \"\"\"Tokenize text\n",
        "\n",
        "  Args:\n",
        "    text (str): Text to be tokenized\n",
        "  \n",
        "  Returns:\n",
        "      str: text with words tokenized\n",
        "  \"\"\"\n",
        "  return ' '.join(nltk.word_tokenize(text))"
      ]
    },
    {
      "cell_type": "markdown",
      "metadata": {
        "id": "zNB5NHL7t-HD"
      },
      "source": [
        "## remove_stop_words(text: str)"
      ]
    },
    {
      "cell_type": "code",
      "execution_count": null,
      "metadata": {
        "id": "Z3AhdQXNuAfB"
      },
      "outputs": [],
      "source": [
        "def remove_stop_words(text: str) -> str:\n",
        "  \"\"\"Remove stop words from text\n",
        "\n",
        "  Args:\n",
        "    text (str): text to remove the stop words\n",
        "  \n",
        "  Returns:\n",
        "      str: text without stop words\n",
        "  \"\"\"\n",
        "  stop_words = [word for word in nltk.corpus.stopwords.words(\"english\")]\n",
        "  return ' '.join(\n",
        "      [word for word in text.split(' ')\n",
        "       if word not in stop_words]\n",
        "  )"
      ]
    },
    {
      "cell_type": "markdown",
      "metadata": {
        "id": "7za_fVaDpoyj"
      },
      "source": [
        "## lemmatize_text(text: str)"
      ]
    },
    {
      "cell_type": "code",
      "execution_count": null,
      "metadata": {
        "id": "1_MRdzO0po-B"
      },
      "outputs": [],
      "source": [
        "def lemmatize_text(text: str) -> str:\n",
        "  \"\"\" Lemmatize a text\n",
        "\n",
        "  Args:\n",
        "    text (str): Text to be lemmatized\n",
        "  \n",
        "  Returns:\n",
        "    str: Text lemmatized\n",
        "  \"\"\"\n",
        "  return WordNetLemmatizer().lemmatize(text, pos='v')"
      ]
    },
    {
      "cell_type": "markdown",
      "metadata": {
        "id": "4S60iKhHh-Bk"
      },
      "source": [
        "## normalize(text: str)"
      ]
    },
    {
      "cell_type": "code",
      "execution_count": null,
      "metadata": {
        "id": "AMgLuppbh-UD"
      },
      "outputs": [],
      "source": [
        "def normalize(text: str) -> str:\n",
        "  \"\"\"Normalizes the text\n",
        "\n",
        "  Args:\n",
        "    text (str): Text to be normalized\n",
        "\n",
        "  Returns:\n",
        "    str: Text normalized\n",
        "  \"\"\"\n",
        "  text = ' '.join(simple_preprocess(text, deacc=True, min_len=3))\n",
        "  text = replace_multiple_spaces_by_one(text)\n",
        "  text = lemmatize_text(text)\n",
        "  text = remove_stop_words(text)\n",
        "  text = tokenize_text(text)\n",
        "  return text"
      ]
    },
    {
      "cell_type": "markdown",
      "metadata": {
        "id": "YZPmITVdrKOy"
      },
      "source": [
        "## steam(text: str)"
      ]
    },
    {
      "cell_type": "code",
      "execution_count": null,
      "metadata": {
        "id": "TYX7v9KZrJ6g"
      },
      "outputs": [],
      "source": [
        "def steam(text: str) -> str:\n",
        "  \"\"\"Steam the words from a review\n",
        "\n",
        "  Args:\n",
        "    text (str): Text to be stemmed\n",
        "  \n",
        "  Returns:\n",
        "    str: Stemmed text\n",
        "  \"\"\"\n",
        "  stemmer = PorterStemmer()\n",
        "  words = nltk.word_tokenize(text)\n",
        "  newwords = [stemmer.stem(word) for word in words]\n",
        "  text = ' '.join(newwords)\n",
        "  return text.lower()"
      ]
    },
    {
      "cell_type": "markdown",
      "metadata": {
        "id": "60Mjl9NQ8Tuh"
      },
      "source": [
        "## get_sentiment(text: str)"
      ]
    },
    {
      "cell_type": "code",
      "execution_count": null,
      "metadata": {
        "id": "3QbcIDSm8S0e"
      },
      "outputs": [],
      "source": [
        "def get_sentiment(text: str) -> str:\n",
        "  \"\"\"Returns the sentiment of the text\n",
        "\n",
        "  Args:\n",
        "    text (str): The text to be calculated the sentiment\n",
        "  \n",
        "  Returns:\n",
        "    str: The sentiment\n",
        "  \"\"\"\n",
        "  blob = TextBlob(text)\n",
        "  sentiment_polarity = round(blob.sentiment[0], 2)\n",
        "  for key, value in SENTIMENTS.items():\n",
        "    if any(np.isclose([sentiment_polarity], value)): # Checks if theres any value in the dictionary value near to the sentiment_polarity\n",
        "      return key"
      ]
    },
    {
      "cell_type": "markdown",
      "metadata": {
        "id": "dKXkmRKN13pw"
      },
      "source": [
        "## filter_room_words(text: str)"
      ]
    },
    {
      "cell_type": "code",
      "execution_count": null,
      "metadata": {
        "id": "us3T0n9j12lF"
      },
      "outputs": [],
      "source": [
        "def filter_room_words(text: str) -> List[str]:\n",
        "  \"\"\" Given a text, check which room is in that text\n",
        "\n",
        "  Args:\n",
        "    text (str): The text to check the room\n",
        "  \n",
        "  Returns:\n",
        "    List[str]: Every room found in that text\n",
        "  \"\"\"\n",
        "  return [word for word in text.split(' ') if word in ROOMS]"
      ]
    },
    {
      "cell_type": "markdown",
      "source": [
        "## get_synonyms(list_of_words: List[str])"
      ],
      "metadata": {
        "id": "ceFjDNmxDJoR"
      }
    },
    {
      "cell_type": "code",
      "source": [
        "def get_synonyms(list_of_words: List[str]) -> List[str]:\n",
        "  \"\"\" Given a list of words, get its synonyms\n",
        "\n",
        "  Args:\n",
        "    list_of_words (List[str]): The list of words\n",
        "  \n",
        "  Returns:\n",
        "    List[str]: The words and their synonyms\n",
        "  \"\"\"\n",
        "  synonyms = []\n",
        "  for word in list_of_words:\n",
        "    for syn in wn.synsets(word):\n",
        "      for lemma in syn.lemmas():\n",
        "        synonyms.append(lemma.name().lower())\n",
        "  return list(set(synonyms).union(set(list_of_words)))"
      ],
      "metadata": {
        "id": "EsAdDZTVDJIk"
      },
      "execution_count": null,
      "outputs": []
    },
    {
      "cell_type": "markdown",
      "source": [
        "## get_pos_tags_noun(list_of_words: List[str])"
      ],
      "metadata": {
        "id": "rYc3G1_8qLnN"
      }
    },
    {
      "cell_type": "code",
      "source": [
        "def get_pos_tags_noun(list_of_words: List[str]) -> List[str]:\n",
        "  nouns = []\n",
        "  for word in list_of_words:\n",
        "    if word[1] == 'NN':\n",
        "      nouns.append(word[0])\n",
        "  return word"
      ],
      "metadata": {
        "id": "LAfU-onuqMEV"
      },
      "execution_count": null,
      "outputs": []
    },
    {
      "cell_type": "markdown",
      "source": [
        "## semantic_filter(list_of_words: List[str], synset: str, proximity: float)"
      ],
      "metadata": {
        "id": "nfWZiP2telz6"
      }
    },
    {
      "cell_type": "code",
      "source": [
        "def semantic_filter(list_of_words: str, synset: str='room.n.01', proximity: float=0.1) -> List[str]:\n",
        "  filtered_list = []\n",
        "  text = nltk.tokenize.word_tokenize(list_of_words)\n",
        "  postags = nltk.pos_tag(text)\n",
        "  postags = get_pos_tags_noun(postags)\n",
        "  for word in list_of_words.split(' '):\n",
        "    for syn in wn.synsets(word):\n",
        "      similarity = wn.synset(synset).path_similarity(syn)\n",
        "      if similarity != None and similarity > proximity:\n",
        "        if word in NOUNS and word in postags:\n",
        "          filtered_list.append(word)\n",
        "          break\n",
        "  return filtered_list"
      ],
      "metadata": {
        "id": "3q-nV0kUel9l"
      },
      "execution_count": null,
      "outputs": []
    },
    {
      "cell_type": "markdown",
      "metadata": {
        "id": "u-FrTW8SzzDH"
      },
      "source": [
        "# Constants"
      ]
    },
    {
      "cell_type": "markdown",
      "source": [
        "## NOUNS"
      ],
      "metadata": {
        "id": "v9fkXWGloYYK"
      }
    },
    {
      "cell_type": "code",
      "source": [
        "NOUNS = {x.name().split('.', 1)[0] for x in wn.all_synsets(wn.NOUN)}"
      ],
      "metadata": {
        "id": "697FAEnqoZje"
      },
      "execution_count": null,
      "outputs": []
    },
    {
      "cell_type": "markdown",
      "metadata": {
        "id": "Ru8ImbKIpFsM"
      },
      "source": [
        "## NUMBER_OF_REVIEWS"
      ]
    },
    {
      "cell_type": "code",
      "execution_count": null,
      "metadata": {
        "id": "ri-e1fV_pIwP"
      },
      "outputs": [],
      "source": [
        "NUMBER_OF_REVIEWS = 50000"
      ]
    },
    {
      "cell_type": "markdown",
      "metadata": {
        "id": "N8F4at192Fmb"
      },
      "source": [
        "## SENTIMENTS"
      ]
    },
    {
      "cell_type": "code",
      "execution_count": null,
      "metadata": {
        "id": "x9I4SuTKz0ZH"
      },
      "outputs": [],
      "source": [
        "SENTIMENTS = {\n",
        "    'horrible': np.arange(-1.0, -0.75, 0.01),\n",
        "    'very negative': np.arange(-0.75, -0.5, 0.01),\n",
        "    'negative': np.arange(-0.5, 0, 0.01),\n",
        "    'neutral': [0],\n",
        "    'positive': np.arange(0.01, 0.5, 0.01),\n",
        "    'very positive': np.arange(0.5, 0.75, 0.01),\n",
        "    'amazing': np.arange(0.75, 1.01, 0.01)\n",
        "}"
      ]
    },
    {
      "cell_type": "markdown",
      "metadata": {
        "id": "ScBgk0O52HiY"
      },
      "source": [
        "## ROOMS"
      ]
    },
    {
      "cell_type": "code",
      "execution_count": null,
      "metadata": {
        "id": "wEJnNwFAz4fM"
      },
      "outputs": [],
      "source": [
        "ROOMS = [\n",
        "  'entrance hall',\n",
        "  'foyer',\n",
        "  'kitchen',\n",
        "  'keeping room',\n",
        "  'pantry',\n",
        "  'dining room',\n",
        "  'living room',\n",
        "  'formal parlor',\n",
        "  'reception room',\n",
        "  'family room',\n",
        "  'den',\n",
        "  'sunroom',\n",
        "  'home office',\n",
        "  'library',\n",
        "  'bathroom',\n",
        "  'powder room',\n",
        "  'half-bath',\n",
        "  'laundry room',\n",
        "  'broom',\n",
        "  'linen closets',\n",
        "  'storage room',\n",
        "  'master bedroom',\n",
        "  'walk-in closet',\n",
        "  \"kids' bedroom\",\n",
        "  'nursery',\n",
        "  'guest room',\n",
        "  'playroom',\n",
        "  'game room',\n",
        "  'music room',\n",
        "  'home theater room',\n",
        "  'home gym',\n",
        "  'garage',\n",
        "  'basement',\n",
        "  'wine cellar',\n",
        "  'root cellar',\n",
        "  'attic',\n",
        "  'loft',\n",
        "  'garage',\n",
        "  'bedroom',\n",
        "  'balcony',\n",
        "  'hall',\n",
        "  'desk',\n",
        "  'stair',\n",
        "  'lobby',\n",
        "  'roof',\n",
        "  'terrace',\n",
        "  'ground floor',\n",
        "  'pool',\n",
        "  'yard',\n",
        "]\n",
        "\n",
        "ROOMS = get_synonyms(ROOMS)"
      ]
    },
    {
      "cell_type": "markdown",
      "metadata": {
        "id": "I4LJhz5HL856"
      },
      "source": [
        "## POSITIVES"
      ]
    },
    {
      "cell_type": "code",
      "execution_count": null,
      "metadata": {
        "id": "hwWIcrJeL-Qm"
      },
      "outputs": [],
      "source": [
        "POSITIVES = ['amazing', 'very positive', 'positive']"
      ]
    },
    {
      "cell_type": "markdown",
      "metadata": {
        "id": "jozCWap1L-t6"
      },
      "source": [
        "## NEGATIVES"
      ]
    },
    {
      "cell_type": "code",
      "execution_count": null,
      "metadata": {
        "id": "CgRE0Qv7ME7t"
      },
      "outputs": [],
      "source": [
        "NEGATIVES = ['horrible', 'very negative', 'negative']"
      ]
    },
    {
      "cell_type": "markdown",
      "metadata": {
        "id": "fNT7wpyH8bRh"
      },
      "source": [
        "# Load Reviews Dataframe"
      ]
    },
    {
      "cell_type": "code",
      "execution_count": null,
      "metadata": {
        "id": "h11Ab-4k9dFw"
      },
      "outputs": [],
      "source": [
        "airbnb_reviews_dataframe = pd.read_csv(\"airbnb-reviews.csv\", encoding='iso-8859-1', low_memory=False, sep=';').dropna()"
      ]
    },
    {
      "cell_type": "code",
      "execution_count": null,
      "metadata": {
        "colab": {
          "base_uri": "https://localhost:8080/"
        },
        "id": "B_8-qQDl-DfE",
        "outputId": "cb0b3a73-c331-4926-b27a-47cd71a5724b"
      },
      "outputs": [
        {
          "output_type": "execute_result",
          "data": {
            "text/plain": [
              "Index(['listing_id', 'id', 'date', 'reviewer_id', 'reviewer_name', 'comments'], dtype='object')"
            ]
          },
          "metadata": {},
          "execution_count": 47
        }
      ],
      "source": [
        "airbnb_reviews_dataframe.columns"
      ]
    },
    {
      "cell_type": "markdown",
      "source": [
        "## Filter the number of reviews"
      ],
      "metadata": {
        "id": "i-dtIT32PyPo"
      }
    },
    {
      "cell_type": "code",
      "execution_count": null,
      "metadata": {
        "id": "GmMrmrcUaECM"
      },
      "outputs": [],
      "source": [
        "airbnb_reviews_filtered_dataframe = airbnb_reviews_dataframe.iloc[:NUMBER_OF_REVIEWS] #Get just the first N comments"
      ]
    },
    {
      "cell_type": "markdown",
      "metadata": {
        "id": "Y-ma-aKUf7FF"
      },
      "source": [
        "# Treat Reviews messages"
      ]
    },
    {
      "cell_type": "markdown",
      "metadata": {
        "id": "KxA3PjEIfxDY"
      },
      "source": [
        "## Filter dataframe for only english comments"
      ]
    },
    {
      "cell_type": "code",
      "execution_count": null,
      "metadata": {
        "colab": {
          "base_uri": "https://localhost:8080/"
        },
        "id": "SlFf7S74AF7g",
        "outputId": "cc0d0e10-a7a0-4d56-cec8-fae5a31370de"
      },
      "outputs": [
        {
          "output_type": "stream",
          "name": "stderr",
          "text": [
            "100%|██████████| 50000/50000 [05:28<00:00, 152.03it/s]\n",
            "/usr/local/lib/python3.7/dist-packages/ipykernel_launcher.py:1: SettingWithCopyWarning: \n",
            "A value is trying to be set on a copy of a slice from a DataFrame.\n",
            "Try using .loc[row_indexer,col_indexer] = value instead\n",
            "\n",
            "See the caveats in the documentation: https://pandas.pydata.org/pandas-docs/stable/user_guide/indexing.html#returning-a-view-versus-a-copy\n",
            "  \"\"\"Entry point for launching an IPython kernel.\n"
          ]
        }
      ],
      "source": [
        "airbnb_reviews_filtered_dataframe['language'] = airbnb_reviews_filtered_dataframe['comments'].progress_map(safe_detect_language)"
      ]
    },
    {
      "cell_type": "code",
      "execution_count": null,
      "metadata": {
        "id": "HJZ2rVmBdgEc"
      },
      "outputs": [],
      "source": [
        "english_airbnb_reviews_df = airbnb_reviews_filtered_dataframe[airbnb_reviews_filtered_dataframe['language'] == 'en'] #Filter for only english comments"
      ]
    },
    {
      "cell_type": "markdown",
      "metadata": {
        "id": "C3D7VeRBRs6s"
      },
      "source": [
        "## Explode Comments by sentences"
      ]
    },
    {
      "cell_type": "code",
      "execution_count": null,
      "metadata": {
        "id": "v5oeSrYoRvsO"
      },
      "outputs": [],
      "source": [
        "english_airbnb_reviews_df = english_airbnb_reviews_df.assign(comments=english_airbnb_reviews_df.comments.str.split(\".\")).explode('comments') #Split the comments by sentences"
      ]
    },
    {
      "cell_type": "markdown",
      "metadata": {
        "id": "Y0fUaoBLklEM"
      },
      "source": [
        "## Normalize Special Characters"
      ]
    },
    {
      "cell_type": "code",
      "execution_count": null,
      "metadata": {
        "colab": {
          "base_uri": "https://localhost:8080/"
        },
        "id": "Fz-UigdPf5ru",
        "outputId": "d2164631-71da-4538-d5e5-5ce56752aac0"
      },
      "outputs": [
        {
          "output_type": "stream",
          "name": "stderr",
          "text": [
            "100%|██████████| 182647/182647 [01:10<00:00, 2601.94it/s]\n"
          ]
        }
      ],
      "source": [
        "english_airbnb_reviews_df['treated_comments'] = english_airbnb_reviews_df['comments'].progress_map(normalize)"
      ]
    },
    {
      "cell_type": "code",
      "execution_count": null,
      "metadata": {
        "id": "UynSN5l1tdxX"
      },
      "outputs": [],
      "source": [
        "english_airbnb_reviews_df = english_airbnb_reviews_df[english_airbnb_reviews_df['treated_comments'] != '']"
      ]
    },
    {
      "cell_type": "markdown",
      "metadata": {
        "id": "zu6OffYygo5W"
      },
      "source": [
        "## Run Porter Stemmer"
      ]
    },
    {
      "cell_type": "code",
      "execution_count": null,
      "metadata": {
        "colab": {
          "base_uri": "https://localhost:8080/"
        },
        "id": "yjapMfDQq7Z-",
        "outputId": "8044a6e1-9885-470e-d7d3-e00b54509e37"
      },
      "outputs": [
        {
          "output_type": "stream",
          "name": "stderr",
          "text": [
            "100%|██████████| 158181/158181 [00:54<00:00, 2896.42it/s]\n"
          ]
        }
      ],
      "source": [
        "english_airbnb_reviews_df['stemmed_comments'] = english_airbnb_reviews_df['treated_comments'].progress_map(steam)"
      ]
    },
    {
      "cell_type": "markdown",
      "source": [
        "## Filter comment words"
      ],
      "metadata": {
        "id": "v10klPOpflLj"
      }
    },
    {
      "cell_type": "code",
      "source": [
        "# english_airbnb_reviews_df['filtered_comments'] = english_airbnb_reviews_df['stemmed_comments'].progress_map(semantic_filter)"
      ],
      "metadata": {
        "id": "GasOFY3qfnmM"
      },
      "execution_count": null,
      "outputs": []
    },
    {
      "cell_type": "markdown",
      "metadata": {
        "id": "aegtnfkU1Twj"
      },
      "source": [
        "## Add Rooms column"
      ]
    },
    {
      "cell_type": "code",
      "execution_count": null,
      "metadata": {
        "colab": {
          "base_uri": "https://localhost:8080/"
        },
        "id": "VQuu2hXz1VaH",
        "outputId": "78894b82-418c-4c1d-fd9b-8f216d0f37b5"
      },
      "outputs": [
        {
          "output_type": "stream",
          "name": "stderr",
          "text": [
            "100%|██████████| 158181/158181 [00:03<00:00, 46917.30it/s]\n"
          ]
        }
      ],
      "source": [
        "english_airbnb_reviews_df['rooms'] = english_airbnb_reviews_df['stemmed_comments'].progress_map(filter_room_words)"
      ]
    },
    {
      "cell_type": "code",
      "execution_count": null,
      "metadata": {
        "id": "zhX0KLwX2_V_"
      },
      "outputs": [],
      "source": [
        "english_airbnb_reviews_df = english_airbnb_reviews_df.explode('rooms').dropna()"
      ]
    },
    {
      "cell_type": "markdown",
      "metadata": {
        "id": "KRvdy7AT49-Q"
      },
      "source": [
        "# Sentiment Analysis"
      ]
    },
    {
      "cell_type": "code",
      "execution_count": null,
      "metadata": {
        "colab": {
          "base_uri": "https://localhost:8080/"
        },
        "id": "1QgIVePO_W-z",
        "outputId": "d2bc77f5-a906-4955-a861-c20f4cdd2788"
      },
      "outputs": [
        {
          "output_type": "stream",
          "name": "stderr",
          "text": [
            "100%|██████████| 11459/11459 [00:07<00:00, 1563.86it/s]\n"
          ]
        }
      ],
      "source": [
        "english_airbnb_reviews_df['sentiment'] = english_airbnb_reviews_df['comments'].progress_map(get_sentiment)"
      ]
    },
    {
      "cell_type": "markdown",
      "metadata": {
        "id": "OuojiC5onbL5"
      },
      "source": [
        "## Remove Neutral Sentiments"
      ]
    },
    {
      "cell_type": "code",
      "execution_count": null,
      "metadata": {
        "id": "9WnbfJeXg6pM"
      },
      "outputs": [],
      "source": [
        "english_airbnb_reviews_df = english_airbnb_reviews_df[english_airbnb_reviews_df['sentiment'] != 'neutral']"
      ]
    },
    {
      "cell_type": "markdown",
      "metadata": {
        "id": "iF9OhRSUEjht"
      },
      "source": [
        "## Positive Sentiments"
      ]
    },
    {
      "cell_type": "code",
      "execution_count": null,
      "metadata": {
        "id": "UcNMTDo0C-EC"
      },
      "outputs": [],
      "source": [
        "positive_reviews_df = english_airbnb_reviews_df[english_airbnb_reviews_df['sentiment'].isin(POSITIVES)] "
      ]
    },
    {
      "cell_type": "code",
      "execution_count": null,
      "metadata": {
        "colab": {
          "base_uri": "https://localhost:8080/"
        },
        "id": "lPkxb7c4FVZh",
        "outputId": "348c474f-adeb-4bb1-fce3-3db65e6385e9"
      },
      "outputs": [
        {
          "output_type": "execute_result",
          "data": {
            "text/plain": [
              "8011"
            ]
          },
          "metadata": {},
          "execution_count": 61
        }
      ],
      "source": [
        "positive_reviews_df.shape[0] #Number of rows"
      ]
    },
    {
      "cell_type": "markdown",
      "metadata": {
        "id": "3AmnuQvlFKwq"
      },
      "source": [
        "## Negative Sentiments"
      ]
    },
    {
      "cell_type": "code",
      "execution_count": null,
      "metadata": {
        "id": "XOwd4UauFMZ1"
      },
      "outputs": [],
      "source": [
        "negative_reviews_df = english_airbnb_reviews_df[english_airbnb_reviews_df['sentiment'].isin(NEGATIVES)] "
      ]
    },
    {
      "cell_type": "code",
      "execution_count": null,
      "metadata": {
        "colab": {
          "base_uri": "https://localhost:8080/"
        },
        "id": "s6p-nV5MFXUc",
        "outputId": "210be35f-011e-4826-c055-627357d5813f"
      },
      "outputs": [
        {
          "output_type": "execute_result",
          "data": {
            "text/plain": [
              "1793"
            ]
          },
          "metadata": {},
          "execution_count": 63
        }
      ],
      "source": [
        "negative_reviews_df.shape[0] #Number of rows"
      ]
    },
    {
      "cell_type": "markdown",
      "metadata": {
        "id": "TZuZyXbsnVkE"
      },
      "source": [
        "# Word Cloud"
      ]
    },
    {
      "cell_type": "markdown",
      "metadata": {
        "id": "dfDRnTp6nYHC"
      },
      "source": [
        "## Positive Sentences"
      ]
    },
    {
      "cell_type": "code",
      "execution_count": null,
      "metadata": {
        "id": "XFdb-sHinXPt"
      },
      "outputs": [],
      "source": [
        "positive_words_frequency = dict(positive_reviews_df['rooms'].value_counts())"
      ]
    },
    {
      "cell_type": "code",
      "execution_count": null,
      "metadata": {
        "id": "JbR9QwgOvu0E"
      },
      "outputs": [],
      "source": [
        "positive_wordcloud = WordCloud(stopwords=stopwords).generate_from_frequencies(positive_words_frequency)"
      ]
    },
    {
      "cell_type": "code",
      "execution_count": null,
      "metadata": {
        "colab": {
          "base_uri": "https://localhost:8080/",
          "height": 254
        },
        "id": "TOcNvNYXv_Eq",
        "outputId": "088b983c-4853-4a97-e8a4-9345b1f83086"
      },
      "outputs": [
        {
          "output_type": "display_data",
          "data": {
            "text/plain": [
              "<Figure size 576x576 with 1 Axes>"
            ],
            "image/png": "[encoded data removed]"
          },
          "metadata": {
            "needs_background": "light"
          }
        }
      ],
      "source": [
        "plt.figure(figsize = (8,8))\n",
        "plt.imshow(positive_wordcloud)\n",
        "plt.axis(\"off\")\n",
        "plt.show()"
      ]
    },
    {
      "cell_type": "markdown",
      "metadata": {
        "id": "bv5EixxAnZw8"
      },
      "source": [
        "## Negative Sentences"
      ]
    },
    {
      "cell_type": "code",
      "execution_count": null,
      "metadata": {
        "id": "oFqD3IsonbPf"
      },
      "outputs": [],
      "source": [
        "negative_words_frequency = dict(negative_reviews_df['rooms'].value_counts())"
      ]
    },
    {
      "cell_type": "code",
      "source": [
        "OrderedDict(negative_words_frequency)"
      ],
      "metadata": {
        "colab": {
          "base_uri": "https://localhost:8080/"
        },
        "id": "0zvHeyrP6UXS",
        "outputId": "dae891af-05d5-48ee-d3a0-2c7a9ccbbacd"
      },
      "execution_count": null,
      "outputs": [
        {
          "output_type": "execute_result",
          "data": {
            "text/plain": [
              "OrderedDict([('bathroom', 510),\n",
              "             ('kitchen', 256),\n",
              "             ('stair', 242),\n",
              "             ('bedroom', 240),\n",
              "             ('toilet', 220),\n",
              "             ('step', 110),\n",
              "             ('bath', 44),\n",
              "             ('can', 32),\n",
              "             ('hall', 28),\n",
              "             ('roof', 19),\n",
              "             ('hallway', 19),\n",
              "             ('patio', 17),\n",
              "             ('loft', 14),\n",
              "             ('basement', 11),\n",
              "             ('yard', 7),\n",
              "             ('attic', 6),\n",
              "             ('pool', 5),\n",
              "             ('desk', 3),\n",
              "             ('foyer', 3),\n",
              "             ('dorm', 2),\n",
              "             ('grand', 1),\n",
              "             ('thousand', 1),\n",
              "             ('broom', 1),\n",
              "             ('pond', 1),\n",
              "             ('john', 1)])"
            ]
          },
          "metadata": {},
          "execution_count": 75
        }
      ]
    },
    {
      "cell_type": "code",
      "source": [
        "OrderedDict(positive_words_frequency)"
      ],
      "metadata": {
        "colab": {
          "base_uri": "https://localhost:8080/"
        },
        "id": "efCy9Ft06bVd",
        "outputId": "d4cf5fe4-66e9-4a99-84a8-5a23f7c25c98"
      },
      "execution_count": null,
      "outputs": [
        {
          "output_type": "execute_result",
          "data": {
            "text/plain": [
              "OrderedDict([('bathroom', 2066),\n",
              "             ('kitchen', 1998),\n",
              "             ('bedroom', 1104),\n",
              "             ('stair', 537),\n",
              "             ('step', 384),\n",
              "             ('roof', 359),\n",
              "             ('loft', 283),\n",
              "             ('toilet', 241),\n",
              "             ('patio', 198),\n",
              "             ('bath', 185),\n",
              "             ('can', 153),\n",
              "             ('pool', 85),\n",
              "             ('attic', 55),\n",
              "             ('hall', 51),\n",
              "             ('yard', 49),\n",
              "             ('john', 43),\n",
              "             ('desk', 43),\n",
              "             ('hallway', 31),\n",
              "             ('grand', 28),\n",
              "             ('basement', 22),\n",
              "             ('pace', 18),\n",
              "             ('thousand', 12),\n",
              "             ('bench', 8),\n",
              "             ('dorm', 7),\n",
              "             ('hideaway', 6),\n",
              "             ('cap', 6),\n",
              "             ('foyer', 5),\n",
              "             ('bean', 4),\n",
              "             ('den', 4),\n",
              "             ('broom', 4),\n",
              "             ('pond', 3),\n",
              "             ('hideout', 3),\n",
              "             ('dome', 3),\n",
              "             ('cellar', 2),\n",
              "             ('garret', 2),\n",
              "             ('mansion', 2),\n",
              "             ('heather', 1),\n",
              "             ('anteroom', 1),\n",
              "             ('playroom', 1),\n",
              "             ('lav', 1),\n",
              "             ('sweep', 1),\n",
              "             ('solarium', 1),\n",
              "             ('ceiling', 1)])"
            ]
          },
          "metadata": {},
          "execution_count": 76
        }
      ]
    },
    {
      "cell_type": "code",
      "execution_count": null,
      "metadata": {
        "id": "Bz8CL4NWxb-X"
      },
      "outputs": [],
      "source": [
        "negative_wordcloud = WordCloud(stopwords=stopwords).generate_from_frequencies(negative_words_frequency)"
      ]
    },
    {
      "cell_type": "code",
      "execution_count": null,
      "metadata": {
        "colab": {
          "base_uri": "https://localhost:8080/",
          "height": 254
        },
        "id": "UO-5_m7BwZKl",
        "outputId": "3ceeed30-06e2-413c-e7c4-271706ec1372"
      },
      "outputs": [
        {
          "output_type": "display_data",
          "data": {
            "text/plain": [
              "<Figure size 576x576 with 1 Axes>"
            ],
            "image/png": "[encoded data removed]"
          },
          "metadata": {
            "needs_background": "light"
          }
        }
      ],
      "source": [
        "plt.figure(figsize = (8,8))\n",
        "plt.imshow(negative_wordcloud)\n",
        "plt.axis(\"off\")\n",
        "plt.show()"
      ]
    }
  ],
  "metadata": {
    "colab": {
      "collapsed_sections": [
        "RBDDtQQAAMfV",
        "NjE8osOIje1r",
        "2NWFhx_X5m_g",
        "QGNfHZegj0aI",
        "x48ilaIyjwQH",
        "6wLVKpv0jbHt",
        "bcc9Zn7yufb7",
        "RLSc7xmE22q4",
        "6AAlvIoAflnk",
        "CRQe8JM6fo2b",
        "gBxbHQ2Rgtu-",
        "0t47ryEjk56T",
        "zNB5NHL7t-HD",
        "7za_fVaDpoyj",
        "4S60iKhHh-Bk",
        "YZPmITVdrKOy",
        "60Mjl9NQ8Tuh",
        "dKXkmRKN13pw",
        "ceFjDNmxDJoR",
        "rYc3G1_8qLnN",
        "nfWZiP2telz6",
        "u-FrTW8SzzDH",
        "v9fkXWGloYYK",
        "Ru8ImbKIpFsM",
        "N8F4at192Fmb",
        "ScBgk0O52HiY",
        "I4LJhz5HL856",
        "jozCWap1L-t6",
        "fNT7wpyH8bRh",
        "i-dtIT32PyPo",
        "C3D7VeRBRs6s",
        "Y0fUaoBLklEM",
        "zu6OffYygo5W",
        "v10klPOpflLj",
        "aegtnfkU1Twj",
        "KRvdy7AT49-Q",
        "OuojiC5onbL5",
        "iF9OhRSUEjht",
        "TZuZyXbsnVkE",
        "dfDRnTp6nYHC",
        "bv5EixxAnZw8"
      ],
      "name": "Trabalho Final Busca e Recuperação de Texto",
      "provenance": [],
      "toc_visible": true
    },
    "kernelspec": {
      "display_name": "Python 3",
      "name": "python3"
    },
    "language_info": {
      "name": "python"
    }
  },
  "nbformat": 4,
  "nbformat_minor": 0
}